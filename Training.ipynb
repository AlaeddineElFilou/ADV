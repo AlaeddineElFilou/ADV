{
 "cells": [
  {
   "cell_type": "code",
   "execution_count": 1,
   "id": "dc59fa0e",
   "metadata": {
    "scrolled": false
   },
   "outputs": [
    {
     "name": "stderr",
     "output_type": "stream",
     "text": [
      "Using TensorFlow backend.\n"
     ]
    },
    {
     "name": "stdout",
     "output_type": "stream",
     "text": [
      "Found 12710 images belonging to 3 classes.\n",
      "Found 2688 images belonging to 3 classes.\n",
      "Model: \"sequential\"\n",
      "_________________________________________________________________\n",
      "Layer (type)                 Output Shape              Param #   \n",
      "=================================================================\n",
      "conv2d (Conv2D)              (None, 254, 254, 16)      448       \n",
      "_________________________________________________________________\n",
      "max_pooling2d (MaxPooling2D) (None, 127, 127, 16)      0         \n",
      "_________________________________________________________________\n",
      "batch_normalization (BatchNo (None, 127, 127, 16)      64        \n",
      "_________________________________________________________________\n",
      "conv2d_1 (Conv2D)            (None, 127, 127, 32)      4640      \n",
      "_________________________________________________________________\n",
      "max_pooling2d_1 (MaxPooling2 (None, 63, 63, 32)        0         \n",
      "_________________________________________________________________\n",
      "batch_normalization_1 (Batch (None, 63, 63, 32)        128       \n",
      "_________________________________________________________________\n",
      "conv2d_2 (Conv2D)            (None, 63, 63, 64)        18496     \n",
      "_________________________________________________________________\n",
      "max_pooling2d_2 (MaxPooling2 (None, 31, 31, 64)        0         \n",
      "_________________________________________________________________\n",
      "batch_normalization_2 (Batch (None, 31, 31, 64)        256       \n",
      "_________________________________________________________________\n",
      "conv2d_3 (Conv2D)            (None, 31, 31, 128)       73856     \n",
      "_________________________________________________________________\n",
      "max_pooling2d_3 (MaxPooling2 (None, 15, 15, 128)       0         \n",
      "_________________________________________________________________\n",
      "batch_normalization_3 (Batch (None, 15, 15, 128)       512       \n",
      "_________________________________________________________________\n",
      "conv2d_4 (Conv2D)            (None, 15, 15, 128)       147584    \n",
      "_________________________________________________________________\n",
      "max_pooling2d_4 (MaxPooling2 (None, 7, 7, 128)         0         \n",
      "_________________________________________________________________\n",
      "batch_normalization_4 (Batch (None, 7, 7, 128)         512       \n",
      "_________________________________________________________________\n",
      "conv2d_5 (Conv2D)            (None, 7, 7, 256)         295168    \n",
      "_________________________________________________________________\n",
      "max_pooling2d_5 (MaxPooling2 (None, 3, 3, 256)         0         \n",
      "_________________________________________________________________\n",
      "batch_normalization_5 (Batch (None, 3, 3, 256)         1024      \n",
      "_________________________________________________________________\n",
      "conv2d_6 (Conv2D)            (None, 3, 3, 256)         590080    \n",
      "_________________________________________________________________\n",
      "max_pooling2d_6 (MaxPooling2 (None, 1, 1, 256)         0         \n",
      "_________________________________________________________________\n",
      "batch_normalization_6 (Batch (None, 1, 1, 256)         1024      \n",
      "_________________________________________________________________\n",
      "conv2d_7 (Conv2D)            (None, 1, 1, 512)         1180160   \n",
      "_________________________________________________________________\n",
      "max_pooling2d_7 (MaxPooling2 (None, 1, 1, 512)         0         \n",
      "_________________________________________________________________\n",
      "batch_normalization_7 (Batch (None, 1, 1, 512)         2048      \n",
      "_________________________________________________________________\n",
      "dense (Dense)                (None, 1, 1, 64)          32832     \n",
      "_________________________________________________________________\n",
      "flatten (Flatten)            (None, 64)                0         \n",
      "_________________________________________________________________\n",
      "dropout (Dropout)            (None, 64)                0         \n",
      "_________________________________________________________________\n",
      "dense_1 (Dense)              (None, 3)                 195       \n",
      "=================================================================\n",
      "Total params: 2,349,027\n",
      "Trainable params: 2,346,243\n",
      "Non-trainable params: 2,784\n",
      "_________________________________________________________________\n"
     ]
    }
   ],
   "source": [
    "import numpy as np\n",
    "import keras\n",
    "import tensorflow as tf\n",
    "from keras import backend as k\n",
    "from tensorflow.keras.models import Sequential\n",
    "from tensorflow.keras.layers import Activation,Dropout\n",
    "from keras.layers.core import Dense, Flatten\n",
    "from tensorflow.keras.optimizers import Adam\n",
    "from PIL import Image\n",
    "from keras.metrics import categorical_crossentropy\n",
    "from keras.preprocessing.image import ImageDataGenerator\n",
    "from keras.preprocessing import image \n",
    "from keras.layers.normalization import BatchNormalization\n",
    "from keras.layers.convolutional import *\n",
    "from matplotlib import pyplot as plt\n",
    "from sklearn.metrics import confusion_matrix\n",
    "import itertools\n",
    "import matplotlib.pyplot as plt\n",
    "import cv2\n",
    "from tensorflow.keras.layers import Dense, Dropout, Flatten, Conv2D, MaxPooling2D, LSTM\n",
    "\n",
    "\n",
    "\n",
    "\n",
    "train_path=r'./Train/'\n",
    "test_path=r'./Test/'\n",
    "#Predict_path=r'C:/Users/adm_ael-filou/Desktop/Exemple1/Prediction'\n",
    "\n",
    "train_batches = ImageDataGenerator().flow_from_directory(train_path, target_size=(256,256), classes=['Compound Switch','Oblique Crossing','Single Switch'],batch_size=16, shuffle=True)\n",
    "test_batches = ImageDataGenerator().flow_from_directory(test_path, target_size=(256,256), classes=['Compound Switch','Oblique Crossing','Single Switch'],batch_size=16, shuffle=True)\n",
    "#Predict_batches = ImageDataGenerator().flow_from_directory(Predict_path, target_size=(256,256), classes=['Compound Switch','Oblique Crossing','Single Switch'],batch_size=16, shuffle=True)\n",
    "\n",
    "model = Sequential()\n",
    "\n",
    "inputs = input_shape= (256,256, 3)\n",
    "\n",
    "model.add(Conv2D(16, kernel_size = (3, 3), activation='relu', input_shape= (256,256, 3)))\n",
    "model.add(MaxPooling2D(pool_size=(2,2)))\n",
    "model.add(tf.keras.layers.BatchNormalization())\n",
    "model.add(Conv2D(32, kernel_size=(3,3), activation='relu', padding='same'))\n",
    "model.add(MaxPooling2D(pool_size=(2,2)))\n",
    "model.add(tf.keras.layers.BatchNormalization())\n",
    "model.add(Conv2D(64, kernel_size=(3,3), activation='relu', padding='same' ))\n",
    "model.add(MaxPooling2D(pool_size=(2,2)))\n",
    "model.add(tf.keras.layers.BatchNormalization())\n",
    "\n",
    "\n",
    "\n",
    "\n",
    "model.add(Conv2D(128, kernel_size=(3,3), activation='relu', padding='same'))\n",
    "model.add(MaxPooling2D(pool_size=(2,2)))\n",
    "model.add(tf.keras.layers.BatchNormalization())\n",
    "model.add(Conv2D(128, kernel_size=(3,3), activation='relu', padding='same'))\n",
    "model.add(MaxPooling2D(pool_size=(2,2)))\n",
    "model.add(tf.keras.layers.BatchNormalization())\n",
    "\n",
    "\n",
    "\n",
    "model.add(Conv2D(256, kernel_size=(3,3), activation='relu', padding='same'))\n",
    "model.add(MaxPooling2D(pool_size=(2,2)))\n",
    "model.add(tf.keras.layers.BatchNormalization())\n",
    "model.add(Conv2D(256, kernel_size=(3,3), activation='relu', padding='same'))\n",
    "model.add(MaxPooling2D(pool_size=(2,2)))\n",
    "model.add(tf.keras.layers.BatchNormalization())\n",
    "\n",
    "model.add(Conv2D(512, kernel_size=(3,3), activation='relu', padding='same'))\n",
    "model.add(MaxPooling2D(pool_size=(1,1)))\n",
    "model.add(tf.keras.layers.BatchNormalization())\n",
    "\n",
    "#model.add(Conv2D(512, kernel_size=(3,3), activation='relu', padding='same'))\n",
    "#model.add(MaxPooling2D(pool_size=(1,1)))\n",
    "#model.add(BatchNormalization())\n",
    "\n",
    "#model.add(Conv2D(512, kernel_size=(3,3), activation='relu', padding='same'))\n",
    "#model.add(MaxPooling2D(pool_size=(1,1)))\n",
    "#model.add(BatchNormalization())\n",
    "\n",
    "model.add(Dense(64, activation = 'relu'))\n",
    "\n",
    "\n",
    "model.add(Flatten())\n",
    "\n",
    "model.add(Dropout(0.2))\n",
    "model.add(Dense(3, activation = 'softmax'))\n",
    "#model.add(Dense(32))\n",
    " \n",
    "\n",
    "model.summary()\n",
    "\n",
    "\n",
    "opt = Adam(learning_rate=0.001)\n",
    "\n"
   ]
  },
  {
   "cell_type": "code",
   "execution_count": 4,
   "id": "c61ea048",
   "metadata": {},
   "outputs": [
    {
     "name": "stdout",
     "output_type": "stream",
     "text": [
      "Epoch 1/60\n",
      "794/794 [==============================] - 247s 310ms/step - loss: 0.0078 - accuracy: 0.9977 - val_loss: 0.1828 - val_accuracy: 0.9758\n",
      "Epoch 2/60\n",
      "794/794 [==============================] - 245s 309ms/step - loss: 0.0105 - accuracy: 0.9968 - val_loss: 0.1431 - val_accuracy: 0.9736\n",
      "Epoch 3/60\n",
      "794/794 [==============================] - 247s 311ms/step - loss: 0.0165 - accuracy: 0.9960 - val_loss: 0.1357 - val_accuracy: 0.9732\n",
      "Epoch 4/60\n",
      "794/794 [==============================] - 247s 311ms/step - loss: 0.0079 - accuracy: 0.9977 - val_loss: 0.1228 - val_accuracy: 0.9769\n",
      "Epoch 5/60\n",
      "794/794 [==============================] - 245s 309ms/step - loss: 0.0124 - accuracy: 0.9961 - val_loss: 0.1136 - val_accuracy: 0.9777\n",
      "Epoch 6/60\n",
      "794/794 [==============================] - 246s 310ms/step - loss: 0.0093 - accuracy: 0.9970 - val_loss: 0.1611 - val_accuracy: 0.9799\n",
      "Epoch 7/60\n",
      "794/794 [==============================] - 245s 308ms/step - loss: 0.0086 - accuracy: 0.9975 - val_loss: 0.2160 - val_accuracy: 0.9702\n",
      "Epoch 8/60\n",
      "794/794 [==============================] - 245s 309ms/step - loss: 0.0093 - accuracy: 0.9974 - val_loss: 0.1531 - val_accuracy: 0.9762\n",
      "Epoch 9/60\n",
      "794/794 [==============================] - 246s 310ms/step - loss: 0.0148 - accuracy: 0.9949 - val_loss: 0.1091 - val_accuracy: 0.9810\n",
      "Epoch 10/60\n",
      "794/794 [==============================] - 247s 310ms/step - loss: 0.0124 - accuracy: 0.9964 - val_loss: 0.1227 - val_accuracy: 0.9807\n",
      "Epoch 11/60\n",
      "794/794 [==============================] - 246s 310ms/step - loss: 0.0081 - accuracy: 0.9983 - val_loss: 0.1317 - val_accuracy: 0.9799\n",
      "Epoch 12/60\n",
      "794/794 [==============================] - 245s 309ms/step - loss: 0.0059 - accuracy: 0.9986 - val_loss: 0.1486 - val_accuracy: 0.9799\n",
      "Epoch 13/60\n",
      "794/794 [==============================] - 245s 309ms/step - loss: 0.0150 - accuracy: 0.9967 - val_loss: 0.1453 - val_accuracy: 0.9788\n",
      "Epoch 14/60\n",
      "794/794 [==============================] - 249s 314ms/step - loss: 0.0114 - accuracy: 0.9970 - val_loss: 0.1140 - val_accuracy: 0.9799\n",
      "Epoch 15/60\n",
      "794/794 [==============================] - 245s 309ms/step - loss: 0.0085 - accuracy: 0.9975 - val_loss: 0.1950 - val_accuracy: 0.9669\n",
      "Epoch 16/60\n",
      "794/794 [==============================] - 245s 309ms/step - loss: 0.0127 - accuracy: 0.9964 - val_loss: 0.2131 - val_accuracy: 0.9658\n",
      "Epoch 17/60\n",
      "794/794 [==============================] - 246s 309ms/step - loss: 0.0068 - accuracy: 0.9982 - val_loss: 0.1686 - val_accuracy: 0.9799\n",
      "Epoch 18/60\n",
      "794/794 [==============================] - 245s 308ms/step - loss: 0.0137 - accuracy: 0.9955 - val_loss: 0.1660 - val_accuracy: 0.9777\n",
      "Epoch 19/60\n",
      "794/794 [==============================] - 246s 309ms/step - loss: 0.0050 - accuracy: 0.9987 - val_loss: 0.1550 - val_accuracy: 0.9833\n",
      "Epoch 20/60\n",
      "794/794 [==============================] - 244s 308ms/step - loss: 0.0111 - accuracy: 0.9968 - val_loss: 0.1791 - val_accuracy: 0.9792\n",
      "Epoch 21/60\n",
      "794/794 [==============================] - 245s 309ms/step - loss: 0.0083 - accuracy: 0.9977 - val_loss: 0.1690 - val_accuracy: 0.9766\n",
      "Epoch 22/60\n",
      "794/794 [==============================] - 245s 308ms/step - loss: 0.0069 - accuracy: 0.9976 - val_loss: 0.1071 - val_accuracy: 0.9784\n",
      "Epoch 23/60\n",
      "794/794 [==============================] - 245s 308ms/step - loss: 0.0109 - accuracy: 0.9968 - val_loss: 0.0975 - val_accuracy: 0.9781\n",
      "Epoch 24/60\n",
      "794/794 [==============================] - 244s 307ms/step - loss: 0.0157 - accuracy: 0.9959 - val_loss: 0.1142 - val_accuracy: 0.9784\n",
      "Epoch 25/60\n",
      "794/794 [==============================] - 244s 307ms/step - loss: 0.0080 - accuracy: 0.9977 - val_loss: 0.1319 - val_accuracy: 0.9799\n",
      "Epoch 26/60\n",
      "794/794 [==============================] - 247s 312ms/step - loss: 0.0082 - accuracy: 0.9984 - val_loss: 0.1773 - val_accuracy: 0.9762\n",
      "Epoch 27/60\n",
      "794/794 [==============================] - 246s 309ms/step - loss: 0.0046 - accuracy: 0.9994 - val_loss: 0.1253 - val_accuracy: 0.9803\n",
      "Epoch 28/60\n",
      "794/794 [==============================] - 245s 309ms/step - loss: 0.0064 - accuracy: 0.9986 - val_loss: 0.1707 - val_accuracy: 0.9799\n",
      "Epoch 29/60\n",
      "794/794 [==============================] - 244s 308ms/step - loss: 0.0152 - accuracy: 0.9970 - val_loss: 0.1551 - val_accuracy: 0.9788\n",
      "Epoch 30/60\n",
      "794/794 [==============================] - 244s 307ms/step - loss: 0.0096 - accuracy: 0.9969 - val_loss: 0.1623 - val_accuracy: 0.9803\n",
      "Epoch 31/60\n",
      "794/794 [==============================] - 246s 310ms/step - loss: 0.0083 - accuracy: 0.9979 - val_loss: 0.1605 - val_accuracy: 0.9781\n",
      "Epoch 32/60\n",
      "794/794 [==============================] - 245s 309ms/step - loss: 0.0108 - accuracy: 0.9976 - val_loss: 0.1616 - val_accuracy: 0.9773\n",
      "Epoch 33/60\n",
      "794/794 [==============================] - 246s 310ms/step - loss: 0.0110 - accuracy: 0.9976 - val_loss: 0.1420 - val_accuracy: 0.9784\n",
      "Epoch 34/60\n",
      "794/794 [==============================] - 244s 308ms/step - loss: 0.0069 - accuracy: 0.9983 - val_loss: 0.1665 - val_accuracy: 0.9773\n",
      "Epoch 35/60\n",
      "794/794 [==============================] - 244s 307ms/step - loss: 0.0079 - accuracy: 0.9978 - val_loss: 0.1734 - val_accuracy: 0.9743\n",
      "Epoch 36/60\n",
      "794/794 [==============================] - 244s 307ms/step - loss: 0.0075 - accuracy: 0.9982 - val_loss: 0.1136 - val_accuracy: 0.9773\n",
      "Epoch 37/60\n",
      "794/794 [==============================] - 244s 308ms/step - loss: 0.0140 - accuracy: 0.9967 - val_loss: 0.1260 - val_accuracy: 0.9781\n",
      "Epoch 38/60\n",
      "794/794 [==============================] - 244s 308ms/step - loss: 0.0063 - accuracy: 0.9982 - val_loss: 0.1466 - val_accuracy: 0.9799\n",
      "Epoch 39/60\n",
      "794/794 [==============================] - 245s 308ms/step - loss: 0.0072 - accuracy: 0.9983 - val_loss: 0.1469 - val_accuracy: 0.9781\n",
      "Epoch 40/60\n",
      "794/794 [==============================] - 244s 307ms/step - loss: 0.0059 - accuracy: 0.9985 - val_loss: 0.1336 - val_accuracy: 0.9818\n",
      "Epoch 41/60\n",
      "794/794 [==============================] - 245s 308ms/step - loss: 0.0069 - accuracy: 0.9980 - val_loss: 0.1406 - val_accuracy: 0.9758\n",
      "Epoch 42/60\n",
      "794/794 [==============================] - 244s 307ms/step - loss: 0.0084 - accuracy: 0.9980 - val_loss: 0.1428 - val_accuracy: 0.9836\n",
      "Epoch 43/60\n",
      "794/794 [==============================] - 246s 309ms/step - loss: 0.0095 - accuracy: 0.9973 - val_loss: 0.1379 - val_accuracy: 0.9803\n",
      "Epoch 44/60\n",
      "794/794 [==============================] - 245s 309ms/step - loss: 0.0109 - accuracy: 0.9963 - val_loss: 0.1538 - val_accuracy: 0.9777\n",
      "Epoch 45/60\n",
      "794/794 [==============================] - 244s 307ms/step - loss: 0.0052 - accuracy: 0.9986 - val_loss: 0.1319 - val_accuracy: 0.9818\n",
      "Epoch 46/60\n",
      "794/794 [==============================] - 246s 310ms/step - loss: 0.0042 - accuracy: 0.9990 - val_loss: 0.2179 - val_accuracy: 0.9740\n",
      "Epoch 47/60\n",
      "794/794 [==============================] - 244s 308ms/step - loss: 0.0107 - accuracy: 0.9970 - val_loss: 0.2019 - val_accuracy: 0.9762\n",
      "Epoch 48/60\n",
      "794/794 [==============================] - 244s 308ms/step - loss: 0.0119 - accuracy: 0.9963 - val_loss: 0.1421 - val_accuracy: 0.9795\n",
      "Epoch 49/60\n",
      "794/794 [==============================] - 244s 307ms/step - loss: 0.0056 - accuracy: 0.9984 - val_loss: 0.1872 - val_accuracy: 0.9788\n",
      "Epoch 50/60\n",
      "794/794 [==============================] - 244s 308ms/step - loss: 0.0066 - accuracy: 0.9984 - val_loss: 0.1919 - val_accuracy: 0.9784\n",
      "Epoch 51/60\n",
      "794/794 [==============================] - 244s 308ms/step - loss: 0.0111 - accuracy: 0.9972 - val_loss: 0.1850 - val_accuracy: 0.9769\n",
      "Epoch 52/60\n",
      "794/794 [==============================] - 244s 308ms/step - loss: 0.0067 - accuracy: 0.9981 - val_loss: 0.1475 - val_accuracy: 0.9807\n",
      "Epoch 53/60\n",
      "794/794 [==============================] - 245s 308ms/step - loss: 0.0061 - accuracy: 0.9984 - val_loss: 0.1685 - val_accuracy: 0.9807\n",
      "Epoch 54/60\n",
      "794/794 [==============================] - 243s 307ms/step - loss: 0.0075 - accuracy: 0.9972 - val_loss: 0.1421 - val_accuracy: 0.9803\n",
      "Epoch 55/60\n",
      "794/794 [==============================] - 244s 308ms/step - loss: 0.0043 - accuracy: 0.9987 - val_loss: 0.1556 - val_accuracy: 0.9792\n",
      "Epoch 56/60\n",
      "794/794 [==============================] - 244s 307ms/step - loss: 0.0067 - accuracy: 0.9984 - val_loss: 0.1643 - val_accuracy: 0.9784\n"
     ]
    },
    {
     "name": "stdout",
     "output_type": "stream",
     "text": [
      "Epoch 57/60\n",
      "794/794 [==============================] - 243s 306ms/step - loss: 0.0094 - accuracy: 0.9978 - val_loss: 0.1400 - val_accuracy: 0.9773\n",
      "Epoch 58/60\n",
      "794/794 [==============================] - 245s 309ms/step - loss: 0.0048 - accuracy: 0.9987 - val_loss: 0.2233 - val_accuracy: 0.9769\n",
      "Epoch 59/60\n",
      "794/794 [==============================] - 243s 305ms/step - loss: 0.0102 - accuracy: 0.9973 - val_loss: 0.2009 - val_accuracy: 0.9781\n",
      "Epoch 60/60\n",
      "794/794 [==============================] - 244s 307ms/step - loss: 0.0079 - accuracy: 0.9980 - val_loss: 0.1142 - val_accuracy: 0.9821\n"
     ]
    }
   ],
   "source": [
    "# (4) Compile \n",
    "#model = Model(inputs=inputs, outputs=predictions)\n",
    "model.compile(loss='categorical_crossentropy', optimizer=opt, metrics=['accuracy'])\n",
    "history= model.fit(train_batches, steps_per_epoch=794,\n",
    "                   validation_data=test_batches, validation_steps=168,epochs=60,verbose=1)\n"
   ]
  },
  {
   "cell_type": "code",
   "execution_count": 5,
   "id": "30313bf0",
   "metadata": {},
   "outputs": [
    {
     "data": {
      "image/png": "[encoded data removed]",
      "text/plain": [
       "<Figure size 432x288 with 1 Axes>"
      ]
     },
     "metadata": {
      "needs_background": "light"
     },
     "output_type": "display_data"
    },
    {
     "data": {
      "image/png": "[encoded data removed]",
      "text/plain": [
       "<Figure size 432x288 with 1 Axes>"
      ]
     },
     "metadata": {
      "needs_background": "light"
     },
     "output_type": "display_data"
    }
   ],
   "source": [
    "# summarize history for accurancy\n",
    "plt.plot(history.history['accuracy'])\n",
    "plt.plot(history.history['val_accuracy'])\n",
    "plt.title('model accuracy')\n",
    "plt.ylabel('accuracy')\n",
    "plt.xlabel('epoch')\n",
    "plt.legend(['train', 'test'], loc='upper left')\n",
    "plt.show()\n",
    "\n",
    "\n",
    "# summarize history for loss\n",
    "plt.plot(history.history['loss'])\n",
    "plt.plot(history.history['val_loss'])\n",
    "plt.title('model loss')\n",
    "plt.ylabel('loss')\n",
    "plt.xlabel('epoch')\n",
    "plt.legend(['train', 'test'], loc='upper left')\n",
    "plt.show()\n",
    "\n"
   ]
  },
  {
   "cell_type": "code",
   "execution_count": 6,
   "id": "960aa2e8",
   "metadata": {},
   "outputs": [],
   "source": [
    "model.save('./Modelcpp1.h5')"
   ]
  },
  {
   "cell_type": "code",
   "execution_count": 7,
   "id": "f7a4875a",
   "metadata": {},
   "outputs": [
    {
     "name": "stdout",
     "output_type": "stream",
     "text": [
      "Test Accuracy: 98.21%\n"
     ]
    }
   ],
   "source": [
    "results = model.evaluate(test_batches, verbose=0)\n",
    "print(\"Test Accuracy: {:.2f}%\".format(results[1] * 100))\n"
   ]
  },
  {
   "cell_type": "code",
   "execution_count": 348,
   "id": "47361742",
   "metadata": {},
   "outputs": [],
   "source": []
  },
  {
   "cell_type": "code",
   "execution_count": null,
   "id": "787c5186",
   "metadata": {},
   "outputs": [],
   "source": []
  },
  {
   "cell_type": "code",
   "execution_count": null,
   "id": "37530e05",
   "metadata": {},
   "outputs": [],
   "source": []
  },
  {
   "cell_type": "code",
   "execution_count": null,
   "id": "bd9c2664",
   "metadata": {},
   "outputs": [],
   "source": [
    "\n",
    "\n"
   ]
  },
  {
   "cell_type": "code",
   "execution_count": null,
   "id": "028ed891",
   "metadata": {},
   "outputs": [],
   "source": []
  },
  {
   "cell_type": "code",
   "execution_count": null,
   "id": "b679785e",
   "metadata": {},
   "outputs": [],
   "source": [
    "#from keras.optimizers import Adam\n",
    "#opt = Adam(lr=0.01, momentum=0.9)\n",
    "#model.compile(..., optimizer=opt)\n",
    "\n",
    "#steps_per_epoch = TotalTrainingSamples / TrainingBatchSize\n",
    "#validation_steps = TotalvalidationSamples / ValidationBatchSize"
   ]
  },
  {
   "cell_type": "code",
   "execution_count": 1,
   "id": "78362a57",
   "metadata": {},
   "outputs": [
    {
     "ename": "NameError",
     "evalue": "name 'image' is not defined",
     "output_type": "error",
     "traceback": [
      "\u001b[1;31m---------------------------------------------------------------------------\u001b[0m",
      "\u001b[1;31mNameError\u001b[0m                                 Traceback (most recent call last)",
      "\u001b[1;32m<ipython-input-1-4d2cef000f85>\u001b[0m in \u001b[0;36m<module>\u001b[1;34m\u001b[0m\n\u001b[0;32m      1\u001b[0m \u001b[1;31m#Prediction for one image\u001b[0m\u001b[1;33m\u001b[0m\u001b[1;33m\u001b[0m\u001b[1;33m\u001b[0m\u001b[0m\n\u001b[1;32m----> 2\u001b[1;33m \u001b[0mtest_image\u001b[0m \u001b[1;33m=\u001b[0m \u001b[0mimage\u001b[0m\u001b[1;33m.\u001b[0m\u001b[0mload_img\u001b[0m\u001b[1;33m(\u001b[0m\u001b[1;34mr'C:/Users/adm_ael-filou/Desktop/1.png'\u001b[0m\u001b[1;33m,\u001b[0m\u001b[0mtarget_size\u001b[0m\u001b[1;33m=\u001b[0m\u001b[1;33m(\u001b[0m\u001b[1;36m256\u001b[0m\u001b[1;33m,\u001b[0m\u001b[1;36m256\u001b[0m\u001b[1;33m)\u001b[0m\u001b[1;33m)\u001b[0m\u001b[1;33m\u001b[0m\u001b[1;33m\u001b[0m\u001b[0m\n\u001b[0m\u001b[0;32m      3\u001b[0m \u001b[0mtest_image\u001b[0m \u001b[1;33m=\u001b[0m \u001b[0mimage\u001b[0m\u001b[1;33m.\u001b[0m\u001b[0mimg_to_array\u001b[0m\u001b[1;33m(\u001b[0m\u001b[0mtest_image\u001b[0m\u001b[1;33m)\u001b[0m\u001b[1;33m\u001b[0m\u001b[1;33m\u001b[0m\u001b[0m\n\u001b[0;32m      4\u001b[0m \u001b[0mtest_image\u001b[0m \u001b[1;33m=\u001b[0m \u001b[0mnp\u001b[0m\u001b[1;33m.\u001b[0m\u001b[0mexpand_dims\u001b[0m\u001b[1;33m(\u001b[0m\u001b[0mtest_image\u001b[0m\u001b[1;33m,\u001b[0m \u001b[0maxis\u001b[0m \u001b[1;33m=\u001b[0m \u001b[1;36m0\u001b[0m\u001b[1;33m)\u001b[0m\u001b[1;33m\u001b[0m\u001b[1;33m\u001b[0m\u001b[0m\n\u001b[0;32m      5\u001b[0m \u001b[0mresult\u001b[0m \u001b[1;33m=\u001b[0m \u001b[0mmodel\u001b[0m\u001b[1;33m.\u001b[0m\u001b[0mpredict\u001b[0m\u001b[1;33m(\u001b[0m\u001b[0mtest_image\u001b[0m\u001b[1;33m)\u001b[0m\u001b[1;33m\u001b[0m\u001b[1;33m\u001b[0m\u001b[0m\n",
      "\u001b[1;31mNameError\u001b[0m: name 'image' is not defined"
     ]
    }
   ],
   "source": [
    "#Prediction for one image \n",
    "test_image = image.load_img(r'C:/Users/adm_ael-filou/Desktop/1.png',target_size=(256,256))\n",
    "test_image = image.img_to_array(test_image)\n",
    "test_image = np.expand_dims(test_image, axis = 0)\n",
    "result = model.predict(test_image)\n",
    "\n",
    "prediction=tensorflow.argmax(result)\n",
    "#print (prediction)\n",
    "probabilities=result\n",
    "print (probabilities)\n",
    "#type(result)\n",
    "#print(np.amax(result))\n",
    "max=np.amax(result)\n",
    "#print(max)\n",
    "index = np.where(result[0] == max)\n",
    "#print(index)\n",
    "#print(index[0])\n",
    "\n",
    "train_batches.class_indices\n",
    "if index[0]==[0]:\n",
    "    prediction ='Compound Switch '\n",
    "\n",
    "elif index[0]==[1]:\n",
    "    prediction ='Oblique Crossing'  \n",
    "\n",
    "else:\n",
    "    prediction ='Single Switch'\n",
    "print(prediction)"
   ]
  },
  {
   "cell_type": "code",
   "execution_count": 6,
   "id": "6b7d622d",
   "metadata": {},
   "outputs": [
    {
     "name": "stdout",
     "output_type": "stream",
     "text": [
      "Collecting pyqt5\n",
      "  Using cached PyQt5-5.15.4-cp36.cp37.cp38.cp39-none-win_amd64.whl (6.8 MB)\n"
     ]
    },
    {
     "name": "stderr",
     "output_type": "stream",
     "text": [
      "  WARNING: The scripts pylupdate5.exe, pyrcc5.exe and pyuic5.exe are installed in 'C:\\Users\\adm_ael-filou\\AppData\\Roaming\\Python\\Python38\\Scripts' which is not on PATH.\n",
      "  Consider adding this directory to PATH or, if you prefer to suppress this warning, use --no-warn-script-location.\n",
      "ERROR: pip's dependency resolver does not currently take into account all the packages that are installed. This behaviour is the source of the following dependency conflicts.\n",
      "spyder 5.0.0 requires pyqtwebengine<5.13, which is not installed.\n",
      "spyder 5.0.0 requires pyqt5<5.13, but you have pyqt5 5.15.4 which is incompatible.\n",
      "WARNING: You are using pip version 21.1.2; however, version 21.1.3 is available.\n"
     ]
    },
    {
     "name": "stdout",
     "output_type": "stream",
     "text": [
      "Requirement already satisfied: PyQt5-Qt5>=5.15 in c:\\users\\adm_ael-filou\\anaconda3\\envs\\tensorflow\\lib\\site-packages (from pyqt5) (5.15.2)\n",
      "Requirement already satisfied: PyQt5-sip<13,>=12.8 in c:\\users\\adm_ael-filou\\anaconda3\\envs\\tensorflow\\lib\\site-packages (from pyqt5) (12.9.0)\n",
      "Installing collected packages: pyqt5\n",
      "Successfully installed pyqt5-5.15.4\n"
     ]
    },
    {
     "name": "stderr",
     "output_type": "stream",
     "text": [
      "You should consider upgrading via the 'c:\\users\\adm_ael-filou\\anaconda3\\envs\\tensorflow\\python.exe -m pip install --upgrade pip' command.\n"
     ]
    }
   ],
   "source": [
    "!pip install --user pyqt5\n",
    "\n"
   ]
  },
  {
   "cell_type": "code",
   "execution_count": 7,
   "id": "c294a260",
   "metadata": {},
   "outputs": [
    {
     "name": "stdout",
     "output_type": "stream",
     "text": [
      "Collecting pyqt5-tools"
     ]
    },
    {
     "name": "stderr",
     "output_type": "stream",
     "text": [
      "  WARNING: The script qt5-tools.exe is installed in 'C:\\Users\\adm_ael-filou\\AppData\\Roaming\\Python\\Python38\\Scripts' which is not on PATH.\n",
      "  Consider adding this directory to PATH or, if you prefer to suppress this warning, use --no-warn-script-location.\n",
      "  WARNING: The script dotenv.exe is installed in 'C:\\Users\\adm_ael-filou\\AppData\\Roaming\\Python\\Python38\\Scripts' which is not on PATH.\n",
      "  Consider adding this directory to PATH or, if you prefer to suppress this warning, use --no-warn-script-location.\n",
      "  WARNING: The script pyqt5-tools.exe is installed in 'C:\\Users\\adm_ael-filou\\AppData\\Roaming\\Python\\Python38\\Scripts' which is not on PATH.\n",
      "  Consider adding this directory to PATH or, if you prefer to suppress this warning, use --no-warn-script-location.\n",
      "WARNING: You are using pip version 21.1.2; however, version 21.1.3 is available.\n",
      "You should consider upgrading via the 'c:\\users\\adm_ael-filou\\anaconda3\\envs\\tensorflow\\python.exe -m pip install --upgrade pip' command.\n"
     ]
    },
    {
     "name": "stdout",
     "output_type": "stream",
     "text": [
      "\n",
      "  Downloading pyqt5_tools-5.15.4.3.2-py3-none-any.whl (29 kB)\n",
      "Collecting pyqt5-plugins<5.15.4.3,>=5.15.4.2.2\n",
      "  Downloading pyqt5_plugins-5.15.4.2.2-cp38-cp38-win_amd64.whl (67 kB)\n",
      "Requirement already satisfied: click in c:\\users\\adm_ael-filou\\anaconda3\\envs\\tensorflow\\lib\\site-packages (from pyqt5-tools) (7.1.2)\n",
      "Collecting python-dotenv\n",
      "  Downloading python_dotenv-0.18.0-py2.py3-none-any.whl (18 kB)\n",
      "Requirement already satisfied: pyqt5==5.15.4 in c:\\users\\adm_ael-filou\\appdata\\roaming\\python\\python38\\site-packages (from pyqt5-tools) (5.15.4)\n",
      "Requirement already satisfied: PyQt5-Qt5>=5.15 in c:\\users\\adm_ael-filou\\anaconda3\\envs\\tensorflow\\lib\\site-packages (from pyqt5==5.15.4->pyqt5-tools) (5.15.2)\n",
      "Requirement already satisfied: PyQt5-sip<13,>=12.8 in c:\\users\\adm_ael-filou\\anaconda3\\envs\\tensorflow\\lib\\site-packages (from pyqt5==5.15.4->pyqt5-tools) (12.9.0)\n",
      "Collecting qt5-tools<5.15.2.2,>=5.15.2.1.2\n",
      "  Downloading qt5_tools-5.15.2.1.2-py3-none-any.whl (13 kB)\n",
      "Collecting qt5-applications<5.15.2.3,>=5.15.2.2.2\n",
      "  Downloading qt5_applications-5.15.2.2.2-py3-none-win_amd64.whl (60.9 MB)\n",
      "Installing collected packages: qt5-applications, qt5-tools, python-dotenv, pyqt5-plugins, pyqt5-tools\n",
      "Successfully installed pyqt5-plugins-5.15.4.2.2 pyqt5-tools-5.15.4.3.2 python-dotenv-0.18.0 qt5-applications-5.15.2.2.2 qt5-tools-5.15.2.1.2\n"
     ]
    }
   ],
   "source": [
    "!pip install --user pyqt5-tools"
   ]
  },
  {
   "cell_type": "code",
   "execution_count": 8,
   "id": "d0c8b93c",
   "metadata": {},
   "outputs": [
    {
     "name": "stdout",
     "output_type": "stream",
     "text": [
      "['C:\\\\Users\\\\adm_ael-filou\\\\Desktop\\\\Finale2', 'C:\\\\Users\\\\adm_ael-filou\\\\Anaconda3\\\\envs\\\\Tensorflow\\\\python38.zip', 'C:\\\\Users\\\\adm_ael-filou\\\\Anaconda3\\\\envs\\\\Tensorflow\\\\DLLs', 'C:\\\\Users\\\\adm_ael-filou\\\\Anaconda3\\\\envs\\\\Tensorflow\\\\lib', 'C:\\\\Users\\\\adm_ael-filou\\\\Anaconda3\\\\envs\\\\Tensorflow', '', 'C:\\\\Users\\\\adm_ael-filou\\\\AppData\\\\Roaming\\\\Python\\\\Python38\\\\site-packages', 'C:\\\\Users\\\\adm_ael-filou\\\\Anaconda3\\\\envs\\\\Tensorflow\\\\lib\\\\site-packages', 'c:\\\\users\\\\adm_ael-filou\\\\desktop\\\\pfe\\\\bentley_ottmann', 'c:\\\\users\\\\adm_ael-filou\\\\desktop\\\\pfe\\\\bentley_ottmann\\\\bentley_ottmann', 'c:\\\\users\\\\adm_ael-filou\\\\desktop\\\\pfe\\\\bentley_ottmann\\\\bentley_ottmann\\\\isect_segments-bentley_ottmann', 'C:\\\\Users\\\\adm_ael-filou\\\\Anaconda3\\\\envs\\\\Tensorflow\\\\lib\\\\site-packages\\\\locket-0.2.1-py3.8.egg', 'C:\\\\Users\\\\adm_ael-filou\\\\Anaconda3\\\\envs\\\\Tensorflow\\\\lib\\\\site-packages\\\\win32', 'C:\\\\Users\\\\adm_ael-filou\\\\Anaconda3\\\\envs\\\\Tensorflow\\\\lib\\\\site-packages\\\\win32\\\\lib', 'C:\\\\Users\\\\adm_ael-filou\\\\Anaconda3\\\\envs\\\\Tensorflow\\\\lib\\\\site-packages\\\\Pythonwin', 'C:\\\\Users\\\\adm_ael-filou\\\\Anaconda3\\\\envs\\\\Tensorflow\\\\lib\\\\site-packages\\\\IPython\\\\extensions', 'C:\\\\Users\\\\adm_ael-filou\\\\.ipython']\n"
     ]
    }
   ],
   "source": [
    "import sys\n",
    "print(sys.path)"
   ]
  },
  {
   "cell_type": "code",
   "execution_count": null,
   "id": "6faacc86",
   "metadata": {},
   "outputs": [],
   "source": [
    "\n",
    "\n"
   ]
  },
  {
   "cell_type": "code",
   "execution_count": 2,
   "id": "d75280da",
   "metadata": {},
   "outputs": [
    {
     "name": "stdout",
     "output_type": "stream",
     "text": [
      "Requirement already satisfied: pyqt5-tools in c:\\users\\adm_ael-filou\\appdata\\roaming\\python\\python38\\site-packages (5.15.4.3.2)\n",
      "Requirement already satisfied: pyqt5-plugins<5.15.4.3,>=5.15.4.2.2 in c:\\users\\adm_ael-filou\\appdata\\roaming\\python\\python38\\site-packages (from pyqt5-tools) (5.15.4.2.2)\n",
      "Requirement already satisfied: pyqt5==5.15.4 in c:\\users\\adm_ael-filou\\appdata\\roaming\\python\\python38\\site-packages (from pyqt5-tools) (5.15.4)\n",
      "Requirement already satisfied: python-dotenv in c:\\users\\adm_ael-filou\\appdata\\roaming\\python\\python38\\site-packages (from pyqt5-tools) (0.18.0)\n",
      "Requirement already satisfied: click in c:\\users\\adm_ael-filou\\anaconda3\\envs\\tensorflow\\lib\\site-packages (from pyqt5-tools) (8.0.1)\n",
      "Requirement already satisfied: PyQt5-Qt5>=5.15 in c:\\users\\adm_ael-filou\\anaconda3\\envs\\tensorflow\\lib\\site-packages (from pyqt5==5.15.4->pyqt5-tools) (5.15.2)\n",
      "Requirement already satisfied: PyQt5-sip<13,>=12.8 in c:\\users\\adm_ael-filou\\anaconda3\\envs\\tensorflow\\lib\\site-packages (from pyqt5==5.15.4->pyqt5-tools) (12.9.0)\n",
      "Requirement already satisfied: qt5-tools<5.15.2.2,>=5.15.2.1.2 in c:\\users\\adm_ael-filou\\appdata\\roaming\\python\\python38\\site-packages (from pyqt5-plugins<5.15.4.3,>=5.15.4.2.2->pyqt5-tools) (5.15.2.1.2)\n",
      "Requirement already satisfied: qt5-applications<5.15.2.3,>=5.15.2.2.2 in c:\\users\\adm_ael-filou\\appdata\\roaming\\python\\python38\\site-packages (from qt5-tools<5.15.2.2,>=5.15.2.1.2->pyqt5-plugins<5.15.4.3,>=5.15.4.2.2->pyqt5-tools) (5.15.2.2.2)\n",
      "Collecting click\n",
      "  Downloading click-7.1.2-py2.py3-none-any.whl (82 kB)\n",
      "Installing collected packages: click\n",
      "  Attempting uninstall: click\n",
      "    Found existing installation: click 8.0.1\n",
      "    Uninstalling click-8.0.1:\n",
      "      Successfully uninstalled click-8.0.1\n",
      "Successfully installed click-7.1.2\n"
     ]
    }
   ],
   "source": [
    "!pip install pyqt5-tools\n"
   ]
  },
  {
   "cell_type": "code",
   "execution_count": 1,
   "id": "f6994d40",
   "metadata": {},
   "outputs": [
    {
     "name": "stdout",
     "output_type": "stream",
     "text": [
      "3.8.10\n"
     ]
    }
   ],
   "source": [
    "from platform import python_version\n",
    "\n",
    "print(python_version())"
   ]
  },
  {
   "cell_type": "code",
   "execution_count": 3,
   "id": "2180404a",
   "metadata": {},
   "outputs": [],
   "source": [
    "import keras\n"
   ]
  },
  {
   "cell_type": "code",
   "execution_count": null,
   "id": "3979c130",
   "metadata": {},
   "outputs": [],
   "source": [
    "\n"
   ]
  },
  {
   "cell_type": "code",
   "execution_count": 2,
   "id": "2003da73",
   "metadata": {},
   "outputs": [],
   "source": []
  },
  {
   "cell_type": "code",
   "execution_count": null,
   "id": "039ffde0",
   "metadata": {},
   "outputs": [],
   "source": []
  }
 ],
 "metadata": {
  "kernelspec": {
   "display_name": "Python 3",
   "language": "python",
   "name": "python3"
  },
  "language_info": {
   "codemirror_mode": {
    "name": "ipython",
    "version": 3
   },
   "file_extension": ".py",
   "mimetype": "text/x-python",
   "name": "python",
   "nbconvert_exporter": "python",
   "pygments_lexer": "ipython3",
   "version": "3.8.10"
  }
 },
 "nbformat": 4,
 "nbformat_minor": 5
}
