{
 "cells": [
  {
   "cell_type": "markdown",
   "source": [
    "# Charger les bibs"
   ],
   "metadata": {}
  },
  {
   "cell_type": "code",
   "execution_count": null,
   "source": [
    "from tensorflow.keras.models import load_model\r\n",
    "from keras.preprocessing import image\r\n",
    "from tensorflow.keras import optimizers\r\n",
    "from PIL import Image\r\n",
    "import numpy as np\r\n",
    "import glob\r\n",
    "import os\r\n"
   ],
   "outputs": [],
   "metadata": {}
  },
  {
   "cell_type": "markdown",
   "source": [
    "# Paramétres de l'inférence"
   ],
   "metadata": {}
  },
  {
   "cell_type": "code",
   "execution_count": null,
   "source": [
    "model_path = './Modelcpp1.h5'\r\n",
    "img_path = 'C:/Users/adm_ael-filou/Desktop/Exemple_Anis/prediction/2.png'\r\n",
    "folder_path ='./all/'\r\n",
    "folder_new_img_path = \"./prediction/\"\r\n",
    "pred =['Compound Switch','Oblique Crossing','Single Switch']\r\n"
   ],
   "outputs": [],
   "metadata": {}
  },
  {
   "cell_type": "markdown",
   "source": [
    "# Charger et compiler le modéle"
   ],
   "metadata": {}
  },
  {
   "cell_type": "code",
   "execution_count": null,
   "source": [
    "def load_and_compile(model_path):\r\n",
    "    \r\n",
    "    # load the trained model\r\n",
    "    opt = optimizers.Adam(learning_rate =0.001)\r\n",
    "    model = load_model(model_path)\r\n",
    "    model.compile(loss='categorical_crossentropy',\r\n",
    "                  optimizer=opt,\r\n",
    "                  metrics=['accuracy'])\r\n",
    "    return model"
   ],
   "outputs": [],
   "metadata": {}
  },
  {
   "cell_type": "markdown",
   "source": [
    "# Pré traitement des images"
   ],
   "metadata": {}
  },
  {
   "cell_type": "code",
   "execution_count": null,
   "source": [],
   "outputs": [],
   "metadata": {}
  },
  {
   "cell_type": "code",
   "execution_count": null,
   "source": [
    "def pre_teret2(img,min_size=256, fill_color=(0, 0, 0)):\r\n",
    "    \r\n",
    "    old_size = img.size  # old_size[0] is in (width, height) format\r\n",
    "    ratio = float(min_size)/max(old_size)\r\n",
    "    new_size = tuple([int(x*ratio) for x in old_size])\r\n",
    "    # thumbnail is a in-place operation\r\n",
    "    img = img.resize(new_size)\r\n",
    "    # create a new image and paste the resized on it\r\n",
    "    new_im = Image.new(\"RGB\", (min_size, min_size))\r\n",
    "    new_im.paste(img, ((min_size-new_size[0])//2,\r\n",
    "                        (min_size-new_size[1])//2))\r\n",
    "        \r\n",
    "    return new_im"
   ],
   "outputs": [],
   "metadata": {}
  },
  {
   "cell_type": "code",
   "execution_count": null,
   "source": [
    "model = load_and_compile(model_path)"
   ],
   "outputs": [],
   "metadata": {}
  },
  {
   "cell_type": "markdown",
   "source": [
    "# Inférer une seule image"
   ],
   "metadata": {}
  },
  {
   "cell_type": "code",
   "execution_count": null,
   "source": [
    "def infer_one_img(model,pred,img_path):\r\n",
    "    test_image = pre_teret2(Image.open(img_path))\r\n",
    "    #test_image.show()\r\n",
    "    test_image = image.img_to_array(test_image)\r\n",
    "    test_image = np.expand_dims(test_image, axis = 0)\r\n",
    "    result = model.predict(test_image)\r\n",
    "    return(pred[np.argmax(result)])\r\n",
    "res = infer_one_img(model,pred,img_path)\r\n",
    "print(res)"
   ],
   "outputs": [],
   "metadata": {}
  },
  {
   "cell_type": "markdown",
   "source": [
    "# Inférer les dossiers test"
   ],
   "metadata": {}
  },
  {
   "cell_type": "code",
   "execution_count": null,
   "source": [
    "def infer_test_folders(model,pred,folder_path):\r\n",
    "    for i in pred:\r\n",
    "        print(f\"-------les images du dossier {i} --------------\")\r\n",
    "        for file in glob.iglob(os.path.join(folder_path+i,\"*.png\")):\r\n",
    "            test_image = pre_teret2(Image.open(file))\r\n",
    "            test_image = image.img_to_array(test_image)\r\n",
    "            test_image = np.expand_dims(test_image, axis = 0)\r\n",
    "            result = model.predict(test_image)\r\n",
    "            print(f\"here the result {result} and the pred {pred[np.argmax(result)]}\")\r\n",
    "            if (pred[np.argmax(result)] != i):\r\n",
    "                print(file)\r\n",
    "                print(f\"fausse préduction p = {pred[np.argmax(result)]} GT = {i}\")\r\n",
    "                print(result)\r\n",
    "                print(\"----------------------------------------------------------\")\r\n",
    "infer_test_folders(model,pred,folder_path)"
   ],
   "outputs": [],
   "metadata": {
    "scrolled": false
   }
  },
  {
   "cell_type": "code",
   "execution_count": null,
   "source": [
    "['Compound Switch','Oblique Crossing','Single Switch']"
   ],
   "outputs": [],
   "metadata": {}
  },
  {
   "cell_type": "markdown",
   "source": [
    "# Inférer les nouvelles images"
   ],
   "metadata": {}
  },
  {
   "cell_type": "code",
   "execution_count": null,
   "source": [],
   "outputs": [],
   "metadata": {}
  },
  {
   "cell_type": "code",
   "execution_count": null,
   "source": [
    "def infer_new_imgs(model,pred,folder_new_img_path):\r\n",
    "    for file in glob.iglob(os.path.join(folder_new_img_path,\"*.png\")):\r\n",
    "        test_image = pre_teret2(Image.open(file))\r\n",
    "        #test_image.show()\r\n",
    "        test_image = image.img_to_array(test_image)\r\n",
    "        test_image = np.expand_dims(test_image, axis = 0)\r\n",
    "        result = model.predict(test_image)\r\n",
    "        print(\"----------------------------------------------------------\")\r\n",
    "        print(file)\r\n",
    "        print(f\"here the result {result} and the pred {pred[np.argmax(result)]}\")\r\n",
    "infer_new_imgs(model,pred,folder_new_img_path)"
   ],
   "outputs": [],
   "metadata": {}
  }
 ],
 "metadata": {
  "kernelspec": {
   "name": "python3",
   "display_name": "Python 3.8.8 64-bit ('base': conda)"
  },
  "language_info": {
   "codemirror_mode": {
    "name": "ipython",
    "version": 3
   },
   "file_extension": ".py",
   "mimetype": "text/x-python",
   "name": "python",
   "nbconvert_exporter": "python",
   "pygments_lexer": "ipython3",
   "version": "3.8.8"
  },
  "interpreter": {
   "hash": "e06eb561314c9ecda35b73a96ff7e32a8311449cbda1704a53ba2697f7d69b55"
  }
 },
 "nbformat": 4,
 "nbformat_minor": 5
}